{
 "cells": [
  {
   "cell_type": "code",
   "execution_count": 1,
   "metadata": {},
   "outputs": [
    {
     "name": "stdout",
     "output_type": "stream",
     "text": [
      "Requirement already satisfied: boto3 in c:\\users\\bryan\\appdata\\local\\programs\\python\\python310\\lib\\site-packages (1.34.129)\n",
      "Requirement already satisfied: s3transfer<0.11.0,>=0.10.0 in c:\\users\\bryan\\appdata\\local\\programs\\python\\python310\\lib\\site-packages (from boto3) (0.10.1)\n",
      "Requirement already satisfied: jmespath<2.0.0,>=0.7.1 in c:\\users\\bryan\\appdata\\local\\programs\\python\\python310\\lib\\site-packages (from boto3) (1.0.1)\n",
      "Requirement already satisfied: botocore<1.35.0,>=1.34.129 in c:\\users\\bryan\\appdata\\local\\programs\\python\\python310\\lib\\site-packages (from boto3) (1.34.129)\n",
      "Requirement already satisfied: python-dateutil<3.0.0,>=2.1 in c:\\users\\bryan\\appdata\\local\\programs\\python\\python310\\lib\\site-packages (from botocore<1.35.0,>=1.34.129->boto3) (2.8.2)\n",
      "Requirement already satisfied: urllib3!=2.2.0,<3,>=1.25.4 in c:\\users\\bryan\\appdata\\local\\programs\\python\\python310\\lib\\site-packages (from botocore<1.35.0,>=1.34.129->boto3) (1.26.8)\n",
      "Requirement already satisfied: six>=1.5 in c:\\users\\bryan\\appdata\\local\\programs\\python\\python310\\lib\\site-packages (from python-dateutil<3.0.0,>=2.1->botocore<1.35.0,>=1.34.129->boto3) (1.16.0)\n"
     ]
    },
    {
     "name": "stderr",
     "output_type": "stream",
     "text": [
      "WARNING: You are using pip version 22.0.3; however, version 24.1 is available.\n",
      "You should consider upgrading via the 'C:\\Users\\Bryan\\AppData\\Local\\Programs\\Python\\Python310\\python.exe -m pip install --upgrade pip' command.\n"
     ]
    }
   ],
   "source": [
    "!pip install boto3"
   ]
  },
  {
   "cell_type": "code",
   "execution_count": 2,
   "metadata": {},
   "outputs": [
    {
     "name": "stdout",
     "output_type": "stream",
     "text": [
      "Requirement already satisfied: load_dotenv in c:\\users\\bryan\\appdata\\local\\programs\\python\\python310\\lib\\site-packages (0.1.0)\n",
      "Requirement already satisfied: python-dotenv in c:\\users\\bryan\\appdata\\local\\programs\\python\\python310\\lib\\site-packages (from load_dotenv) (1.0.1)\n"
     ]
    },
    {
     "name": "stderr",
     "output_type": "stream",
     "text": [
      "WARNING: You are using pip version 22.0.3; however, version 24.1 is available.\n",
      "You should consider upgrading via the 'C:\\Users\\Bryan\\AppData\\Local\\Programs\\Python\\Python310\\python.exe -m pip install --upgrade pip' command.\n"
     ]
    }
   ],
   "source": [
    "!pip install load_dotenv"
   ]
  },
  {
   "cell_type": "code",
   "execution_count": 1,
   "metadata": {},
   "outputs": [],
   "source": [
    "import pandas as pd\n",
    "import boto3\n",
    "import warnings\n",
    "import os\n",
    "from dotenv import load_dotenv\n",
    "warnings.filterwarnings(\"ignore\")"
   ]
  },
  {
   "cell_type": "code",
   "execution_count": 2,
   "metadata": {},
   "outputs": [
    {
     "data": {
      "text/plain": [
       "True"
      ]
     },
     "execution_count": 2,
     "metadata": {},
     "output_type": "execute_result"
    }
   ],
   "source": [
    "load_dotenv('env.s3creds')"
   ]
  },
  {
   "cell_type": "markdown",
   "metadata": {},
   "source": [
    "s3 = boto3.resource(\n",
    "\tservice_name='s3',\n",
    "\taws_access_key_id=os.getenv('aws_access_key_id'),\n",
    "    aws_secret_access_key=os.getenv('aws_secret_access_key'),\n",
    "    region_name=os.getenv('region_name')\n",
    ")"
   ]
  },
  {
   "cell_type": "code",
   "execution_count": 3,
   "metadata": {},
   "outputs": [],
   "source": [
    "s3 = boto3.resource(\n",
    "\tservice_name='s3',\n",
    "\taws_access_key_id=os.getenv('aws_access_key_id'),\n",
    "    aws_secret_access_key=os.getenv('aws_secret_access_key'),\n",
    "    region_name=os.getenv('region_name')\n",
    ")"
   ]
  },
  {
   "cell_type": "code",
   "execution_count": 4,
   "metadata": {},
   "outputs": [
    {
     "name": "stdout",
     "output_type": "stream",
     "text": [
      "Client Access: s3.ServiceResource()\n"
     ]
    }
   ],
   "source": [
    "# Verify that the variables are correctly retrieved (optional)\n",
    "print(f\"Client Access: {s3}\")\n"
   ]
  },
  {
   "cell_type": "code",
   "execution_count": 5,
   "metadata": {},
   "outputs": [
    {
     "name": "stdout",
     "output_type": "stream",
     "text": [
      "prj4\n"
     ]
    }
   ],
   "source": [
    "# List all buckets\n",
    "for bucket in s3.buckets.all():\n",
    "    print(bucket.name)"
   ]
  },
  {
   "cell_type": "code",
   "execution_count": 6,
   "metadata": {},
   "outputs": [
    {
     "name": "stdout",
     "output_type": "stream",
     "text": [
      "s3.ObjectSummary(bucket_name='prj4', key='StormEvents_2014.csv')\n",
      "s3.ObjectSummary(bucket_name='prj4', key='eaglei_outages_2014.csv')\n",
      "s3.ObjectSummary(bucket_name='prj4', key='stormOutages_df.csv')\n"
     ]
    }
   ],
   "source": [
    "for obj in s3.Bucket('prj4').objects.all():\n",
    "    print(obj)"
   ]
  },
  {
   "cell_type": "code",
   "execution_count": 7,
   "metadata": {},
   "outputs": [],
   "source": [
    "obj = s3.Bucket('prj4').Object('stormOutages_df.csv').get()\n",
    "file = pd.read_csv(obj['Body'], index_col=0)\n",
    "\n",
    "df = pd.DataFrame(file)"
   ]
  },
  {
   "cell_type": "code",
   "execution_count": 8,
   "metadata": {},
   "outputs": [
    {
     "data": {
      "text/html": [
       "<div>\n",
       "<style scoped>\n",
       "    .dataframe tbody tr th:only-of-type {\n",
       "        vertical-align: middle;\n",
       "    }\n",
       "\n",
       "    .dataframe tbody tr th {\n",
       "        vertical-align: top;\n",
       "    }\n",
       "\n",
       "    .dataframe thead th {\n",
       "        text-align: right;\n",
       "    }\n",
       "</style>\n",
       "<table border=\"1\" class=\"dataframe\">\n",
       "  <thead>\n",
       "    <tr style=\"text-align: right;\">\n",
       "      <th></th>\n",
       "      <th>EVENT_ID</th>\n",
       "      <th>STATE</th>\n",
       "      <th>county</th>\n",
       "      <th>YEAR</th>\n",
       "      <th>EVENT_TYPE</th>\n",
       "      <th>FIPS</th>\n",
       "      <th>customers_out</th>\n",
       "    </tr>\n",
       "    <tr>\n",
       "      <th>END_YEARMONTH</th>\n",
       "      <th></th>\n",
       "      <th></th>\n",
       "      <th></th>\n",
       "      <th></th>\n",
       "      <th></th>\n",
       "      <th></th>\n",
       "      <th></th>\n",
       "    </tr>\n",
       "  </thead>\n",
       "  <tbody>\n",
       "    <tr>\n",
       "      <th>201411</th>\n",
       "      <td>543620</td>\n",
       "      <td>SOUTH CAROLINA</td>\n",
       "      <td>Richland</td>\n",
       "      <td>2014</td>\n",
       "      <td>Thunderstorm Wind</td>\n",
       "      <td>45079201411</td>\n",
       "      <td>50</td>\n",
       "    </tr>\n",
       "    <tr>\n",
       "      <th>201411</th>\n",
       "      <td>543620</td>\n",
       "      <td>SOUTH CAROLINA</td>\n",
       "      <td>Richland</td>\n",
       "      <td>2014</td>\n",
       "      <td>Thunderstorm Wind</td>\n",
       "      <td>45079201411</td>\n",
       "      <td>50</td>\n",
       "    </tr>\n",
       "    <tr>\n",
       "      <th>201411</th>\n",
       "      <td>543620</td>\n",
       "      <td>SOUTH CAROLINA</td>\n",
       "      <td>Richland</td>\n",
       "      <td>2014</td>\n",
       "      <td>Thunderstorm Wind</td>\n",
       "      <td>45079201411</td>\n",
       "      <td>52</td>\n",
       "    </tr>\n",
       "    <tr>\n",
       "      <th>201411</th>\n",
       "      <td>543620</td>\n",
       "      <td>SOUTH CAROLINA</td>\n",
       "      <td>Richland</td>\n",
       "      <td>2014</td>\n",
       "      <td>Thunderstorm Wind</td>\n",
       "      <td>45079201411</td>\n",
       "      <td>52</td>\n",
       "    </tr>\n",
       "    <tr>\n",
       "      <th>201411</th>\n",
       "      <td>543620</td>\n",
       "      <td>SOUTH CAROLINA</td>\n",
       "      <td>Richland</td>\n",
       "      <td>2014</td>\n",
       "      <td>Thunderstorm Wind</td>\n",
       "      <td>45079201411</td>\n",
       "      <td>52</td>\n",
       "    </tr>\n",
       "  </tbody>\n",
       "</table>\n",
       "</div>"
      ],
      "text/plain": [
       "               EVENT_ID           STATE    county  YEAR         EVENT_TYPE  \\\n",
       "END_YEARMONTH                                                                \n",
       "201411           543620  SOUTH CAROLINA  Richland  2014  Thunderstorm Wind   \n",
       "201411           543620  SOUTH CAROLINA  Richland  2014  Thunderstorm Wind   \n",
       "201411           543620  SOUTH CAROLINA  Richland  2014  Thunderstorm Wind   \n",
       "201411           543620  SOUTH CAROLINA  Richland  2014  Thunderstorm Wind   \n",
       "201411           543620  SOUTH CAROLINA  Richland  2014  Thunderstorm Wind   \n",
       "\n",
       "                      FIPS  customers_out  \n",
       "END_YEARMONTH                              \n",
       "201411         45079201411             50  \n",
       "201411         45079201411             50  \n",
       "201411         45079201411             52  \n",
       "201411         45079201411             52  \n",
       "201411         45079201411             52  "
      ]
     },
     "execution_count": 8,
     "metadata": {},
     "output_type": "execute_result"
    }
   ],
   "source": [
    "df.head(5)\n"
   ]
  },
  {
   "cell_type": "code",
   "execution_count": 9,
   "metadata": {},
   "outputs": [],
   "source": [
    "df = df.assign(fips_code=df.index)"
   ]
  },
  {
   "cell_type": "code",
   "execution_count": 10,
   "metadata": {},
   "outputs": [
    {
     "data": {
      "text/html": [
       "<div>\n",
       "<style scoped>\n",
       "    .dataframe tbody tr th:only-of-type {\n",
       "        vertical-align: middle;\n",
       "    }\n",
       "\n",
       "    .dataframe tbody tr th {\n",
       "        vertical-align: top;\n",
       "    }\n",
       "\n",
       "    .dataframe thead th {\n",
       "        text-align: right;\n",
       "    }\n",
       "</style>\n",
       "<table border=\"1\" class=\"dataframe\">\n",
       "  <thead>\n",
       "    <tr style=\"text-align: right;\">\n",
       "      <th></th>\n",
       "      <th>EVENT_ID</th>\n",
       "      <th>STATE</th>\n",
       "      <th>county</th>\n",
       "      <th>YEAR</th>\n",
       "      <th>EVENT_TYPE</th>\n",
       "      <th>FIPS</th>\n",
       "      <th>customers_out</th>\n",
       "      <th>fips_code</th>\n",
       "    </tr>\n",
       "    <tr>\n",
       "      <th>END_YEARMONTH</th>\n",
       "      <th></th>\n",
       "      <th></th>\n",
       "      <th></th>\n",
       "      <th></th>\n",
       "      <th></th>\n",
       "      <th></th>\n",
       "      <th></th>\n",
       "      <th></th>\n",
       "    </tr>\n",
       "  </thead>\n",
       "  <tbody>\n",
       "    <tr>\n",
       "      <th>201411</th>\n",
       "      <td>543620</td>\n",
       "      <td>SOUTH CAROLINA</td>\n",
       "      <td>Richland</td>\n",
       "      <td>2014</td>\n",
       "      <td>Thunderstorm Wind</td>\n",
       "      <td>45079201411</td>\n",
       "      <td>50</td>\n",
       "      <td>201411</td>\n",
       "    </tr>\n",
       "    <tr>\n",
       "      <th>201411</th>\n",
       "      <td>543620</td>\n",
       "      <td>SOUTH CAROLINA</td>\n",
       "      <td>Richland</td>\n",
       "      <td>2014</td>\n",
       "      <td>Thunderstorm Wind</td>\n",
       "      <td>45079201411</td>\n",
       "      <td>50</td>\n",
       "      <td>201411</td>\n",
       "    </tr>\n",
       "    <tr>\n",
       "      <th>201411</th>\n",
       "      <td>543620</td>\n",
       "      <td>SOUTH CAROLINA</td>\n",
       "      <td>Richland</td>\n",
       "      <td>2014</td>\n",
       "      <td>Thunderstorm Wind</td>\n",
       "      <td>45079201411</td>\n",
       "      <td>52</td>\n",
       "      <td>201411</td>\n",
       "    </tr>\n",
       "    <tr>\n",
       "      <th>201411</th>\n",
       "      <td>543620</td>\n",
       "      <td>SOUTH CAROLINA</td>\n",
       "      <td>Richland</td>\n",
       "      <td>2014</td>\n",
       "      <td>Thunderstorm Wind</td>\n",
       "      <td>45079201411</td>\n",
       "      <td>52</td>\n",
       "      <td>201411</td>\n",
       "    </tr>\n",
       "    <tr>\n",
       "      <th>201411</th>\n",
       "      <td>543620</td>\n",
       "      <td>SOUTH CAROLINA</td>\n",
       "      <td>Richland</td>\n",
       "      <td>2014</td>\n",
       "      <td>Thunderstorm Wind</td>\n",
       "      <td>45079201411</td>\n",
       "      <td>52</td>\n",
       "      <td>201411</td>\n",
       "    </tr>\n",
       "  </tbody>\n",
       "</table>\n",
       "</div>"
      ],
      "text/plain": [
       "               EVENT_ID           STATE    county  YEAR         EVENT_TYPE  \\\n",
       "END_YEARMONTH                                                                \n",
       "201411           543620  SOUTH CAROLINA  Richland  2014  Thunderstorm Wind   \n",
       "201411           543620  SOUTH CAROLINA  Richland  2014  Thunderstorm Wind   \n",
       "201411           543620  SOUTH CAROLINA  Richland  2014  Thunderstorm Wind   \n",
       "201411           543620  SOUTH CAROLINA  Richland  2014  Thunderstorm Wind   \n",
       "201411           543620  SOUTH CAROLINA  Richland  2014  Thunderstorm Wind   \n",
       "\n",
       "                      FIPS  customers_out  fips_code  \n",
       "END_YEARMONTH                                         \n",
       "201411         45079201411             50     201411  \n",
       "201411         45079201411             50     201411  \n",
       "201411         45079201411             52     201411  \n",
       "201411         45079201411             52     201411  \n",
       "201411         45079201411             52     201411  "
      ]
     },
     "execution_count": 10,
     "metadata": {},
     "output_type": "execute_result"
    }
   ],
   "source": [
    "df.head()"
   ]
  },
  {
   "cell_type": "code",
   "execution_count": 11,
   "metadata": {},
   "outputs": [],
   "source": [
    "df = df.reset_index(drop=True)"
   ]
  },
  {
   "cell_type": "code",
   "execution_count": 12,
   "metadata": {},
   "outputs": [
    {
     "data": {
      "text/plain": [
       "(1007790, 8)"
      ]
     },
     "execution_count": 12,
     "metadata": {},
     "output_type": "execute_result"
    }
   ],
   "source": [
    "df.shape"
   ]
  },
  {
   "cell_type": "code",
   "execution_count": 13,
   "metadata": {},
   "outputs": [
    {
     "name": "stdout",
     "output_type": "stream",
     "text": [
      "1        261368\n",
      "2         91848\n",
      "3         48512\n",
      "4         35958\n",
      "5         32465\n",
      "          ...  \n",
      "10674         1\n",
      "4032          1\n",
      "4010          1\n",
      "4004          1\n",
      "4196          1\n",
      "Name: customers_out, Length: 7944, dtype: int64\n"
     ]
    }
   ],
   "source": [
    "customer_counts = df['customers_out'].value_counts()\n",
    "\n",
    "# Print the result\n",
    "print(customer_counts)"
   ]
  },
  {
   "cell_type": "code",
   "execution_count": 14,
   "metadata": {},
   "outputs": [
    {
     "name": "stdout",
     "output_type": "stream",
     "text": [
      "<class 'pandas.core.frame.DataFrame'>\n",
      "RangeIndex: 1007790 entries, 0 to 1007789\n",
      "Data columns (total 8 columns):\n",
      " #   Column         Non-Null Count    Dtype \n",
      "---  ------         --------------    ----- \n",
      " 0   EVENT_ID       1007790 non-null  int64 \n",
      " 1   STATE          1007790 non-null  object\n",
      " 2   county         1007790 non-null  object\n",
      " 3   YEAR           1007790 non-null  int64 \n",
      " 4   EVENT_TYPE     1007790 non-null  object\n",
      " 5   FIPS           1007790 non-null  int64 \n",
      " 6   customers_out  1007790 non-null  int64 \n",
      " 7   fips_code      1007790 non-null  int64 \n",
      "dtypes: int64(5), object(3)\n",
      "memory usage: 61.5+ MB\n"
     ]
    }
   ],
   "source": [
    "df.info()"
   ]
  },
  {
   "cell_type": "code",
   "execution_count": 15,
   "metadata": {},
   "outputs": [
    {
     "data": {
      "text/plain": [
       "Index(['EVENT_ID', 'STATE', 'county', 'YEAR', 'EVENT_TYPE', 'FIPS',\n",
       "       'customers_out', 'fips_code'],\n",
       "      dtype='object')"
      ]
     },
     "execution_count": 15,
     "metadata": {},
     "output_type": "execute_result"
    }
   ],
   "source": [
    "df.columns"
   ]
  },
  {
   "cell_type": "code",
   "execution_count": 16,
   "metadata": {},
   "outputs": [],
   "source": [
    "# Import the modules\n",
    "import numpy as np\n",
    "import pandas as pd\n",
    "from pathlib import Path\n",
    "from sklearn.metrics import confusion_matrix, classification_report"
   ]
  },
  {
   "cell_type": "markdown",
   "metadata": {},
   "source": [
    "### Step 3: Split the data into training and testing datasets by using `train_test_split`."
   ]
  },
  {
   "cell_type": "markdown",
   "metadata": {},
   "source": [
    "Due to the dataset containing many rows of value \"1\" for the amount of customers out, that value cannot be used to train in the data set. We will clean the data to remove the counts of \"1\" for customers out in the data. "
   ]
  },
  {
   "cell_type": "markdown",
   "metadata": {},
   "source": [
    "Create the labels set (`y`)  from the customers out value column, and then create the features (`X`) DataFrame from the remaining columns."
   ]
  },
  {
   "cell_type": "code",
   "execution_count": 17,
   "metadata": {},
   "outputs": [
    {
     "data": {
      "text/html": [
       "<div>\n",
       "<style scoped>\n",
       "    .dataframe tbody tr th:only-of-type {\n",
       "        vertical-align: middle;\n",
       "    }\n",
       "\n",
       "    .dataframe tbody tr th {\n",
       "        vertical-align: top;\n",
       "    }\n",
       "\n",
       "    .dataframe thead th {\n",
       "        text-align: right;\n",
       "    }\n",
       "</style>\n",
       "<table border=\"1\" class=\"dataframe\">\n",
       "  <thead>\n",
       "    <tr style=\"text-align: right;\">\n",
       "      <th></th>\n",
       "      <th>EVENT_ID</th>\n",
       "      <th>STATE</th>\n",
       "      <th>county</th>\n",
       "      <th>YEAR</th>\n",
       "      <th>EVENT_TYPE</th>\n",
       "      <th>FIPS</th>\n",
       "      <th>customers_out</th>\n",
       "      <th>fips_code</th>\n",
       "    </tr>\n",
       "  </thead>\n",
       "  <tbody>\n",
       "    <tr>\n",
       "      <th>0</th>\n",
       "      <td>543620</td>\n",
       "      <td>SOUTH CAROLINA</td>\n",
       "      <td>Richland</td>\n",
       "      <td>2014</td>\n",
       "      <td>Thunderstorm Wind</td>\n",
       "      <td>45079201411</td>\n",
       "      <td>50</td>\n",
       "      <td>201411</td>\n",
       "    </tr>\n",
       "    <tr>\n",
       "      <th>1</th>\n",
       "      <td>543620</td>\n",
       "      <td>SOUTH CAROLINA</td>\n",
       "      <td>Richland</td>\n",
       "      <td>2014</td>\n",
       "      <td>Thunderstorm Wind</td>\n",
       "      <td>45079201411</td>\n",
       "      <td>50</td>\n",
       "      <td>201411</td>\n",
       "    </tr>\n",
       "    <tr>\n",
       "      <th>2</th>\n",
       "      <td>543620</td>\n",
       "      <td>SOUTH CAROLINA</td>\n",
       "      <td>Richland</td>\n",
       "      <td>2014</td>\n",
       "      <td>Thunderstorm Wind</td>\n",
       "      <td>45079201411</td>\n",
       "      <td>52</td>\n",
       "      <td>201411</td>\n",
       "    </tr>\n",
       "    <tr>\n",
       "      <th>3</th>\n",
       "      <td>543620</td>\n",
       "      <td>SOUTH CAROLINA</td>\n",
       "      <td>Richland</td>\n",
       "      <td>2014</td>\n",
       "      <td>Thunderstorm Wind</td>\n",
       "      <td>45079201411</td>\n",
       "      <td>52</td>\n",
       "      <td>201411</td>\n",
       "    </tr>\n",
       "    <tr>\n",
       "      <th>4</th>\n",
       "      <td>543620</td>\n",
       "      <td>SOUTH CAROLINA</td>\n",
       "      <td>Richland</td>\n",
       "      <td>2014</td>\n",
       "      <td>Thunderstorm Wind</td>\n",
       "      <td>45079201411</td>\n",
       "      <td>52</td>\n",
       "      <td>201411</td>\n",
       "    </tr>\n",
       "  </tbody>\n",
       "</table>\n",
       "</div>"
      ],
      "text/plain": [
       "   EVENT_ID           STATE    county  YEAR         EVENT_TYPE         FIPS  \\\n",
       "0    543620  SOUTH CAROLINA  Richland  2014  Thunderstorm Wind  45079201411   \n",
       "1    543620  SOUTH CAROLINA  Richland  2014  Thunderstorm Wind  45079201411   \n",
       "2    543620  SOUTH CAROLINA  Richland  2014  Thunderstorm Wind  45079201411   \n",
       "3    543620  SOUTH CAROLINA  Richland  2014  Thunderstorm Wind  45079201411   \n",
       "4    543620  SOUTH CAROLINA  Richland  2014  Thunderstorm Wind  45079201411   \n",
       "\n",
       "   customers_out  fips_code  \n",
       "0             50     201411  \n",
       "1             50     201411  \n",
       "2             52     201411  \n",
       "3             52     201411  \n",
       "4             52     201411  "
      ]
     },
     "execution_count": 17,
     "metadata": {},
     "output_type": "execute_result"
    }
   ],
   "source": [
    "df_filtered = df.query(\"customers_out > 10\")\n",
    "df_filtered.head()"
   ]
  },
  {
   "cell_type": "code",
   "execution_count": 18,
   "metadata": {},
   "outputs": [
    {
     "data": {
      "text/html": [
       "<div>\n",
       "<style scoped>\n",
       "    .dataframe tbody tr th:only-of-type {\n",
       "        vertical-align: middle;\n",
       "    }\n",
       "\n",
       "    .dataframe tbody tr th {\n",
       "        vertical-align: top;\n",
       "    }\n",
       "\n",
       "    .dataframe thead th {\n",
       "        text-align: right;\n",
       "    }\n",
       "</style>\n",
       "<table border=\"1\" class=\"dataframe\">\n",
       "  <thead>\n",
       "    <tr style=\"text-align: right;\">\n",
       "      <th></th>\n",
       "      <th>EVENT_ID</th>\n",
       "      <th>STATE</th>\n",
       "      <th>county</th>\n",
       "      <th>YEAR</th>\n",
       "      <th>EVENT_TYPE</th>\n",
       "      <th>FIPS</th>\n",
       "      <th>customers_out</th>\n",
       "      <th>fips_code</th>\n",
       "      <th>month</th>\n",
       "    </tr>\n",
       "  </thead>\n",
       "  <tbody>\n",
       "    <tr>\n",
       "      <th>0</th>\n",
       "      <td>543620</td>\n",
       "      <td>SOUTH CAROLINA</td>\n",
       "      <td>Richland</td>\n",
       "      <td>2014</td>\n",
       "      <td>Thunderstorm Wind</td>\n",
       "      <td>45079201411</td>\n",
       "      <td>50</td>\n",
       "      <td>201411</td>\n",
       "      <td>11</td>\n",
       "    </tr>\n",
       "    <tr>\n",
       "      <th>1</th>\n",
       "      <td>543620</td>\n",
       "      <td>SOUTH CAROLINA</td>\n",
       "      <td>Richland</td>\n",
       "      <td>2014</td>\n",
       "      <td>Thunderstorm Wind</td>\n",
       "      <td>45079201411</td>\n",
       "      <td>50</td>\n",
       "      <td>201411</td>\n",
       "      <td>11</td>\n",
       "    </tr>\n",
       "    <tr>\n",
       "      <th>2</th>\n",
       "      <td>543620</td>\n",
       "      <td>SOUTH CAROLINA</td>\n",
       "      <td>Richland</td>\n",
       "      <td>2014</td>\n",
       "      <td>Thunderstorm Wind</td>\n",
       "      <td>45079201411</td>\n",
       "      <td>52</td>\n",
       "      <td>201411</td>\n",
       "      <td>11</td>\n",
       "    </tr>\n",
       "    <tr>\n",
       "      <th>3</th>\n",
       "      <td>543620</td>\n",
       "      <td>SOUTH CAROLINA</td>\n",
       "      <td>Richland</td>\n",
       "      <td>2014</td>\n",
       "      <td>Thunderstorm Wind</td>\n",
       "      <td>45079201411</td>\n",
       "      <td>52</td>\n",
       "      <td>201411</td>\n",
       "      <td>11</td>\n",
       "    </tr>\n",
       "    <tr>\n",
       "      <th>4</th>\n",
       "      <td>543620</td>\n",
       "      <td>SOUTH CAROLINA</td>\n",
       "      <td>Richland</td>\n",
       "      <td>2014</td>\n",
       "      <td>Thunderstorm Wind</td>\n",
       "      <td>45079201411</td>\n",
       "      <td>52</td>\n",
       "      <td>201411</td>\n",
       "      <td>11</td>\n",
       "    </tr>\n",
       "  </tbody>\n",
       "</table>\n",
       "</div>"
      ],
      "text/plain": [
       "   EVENT_ID           STATE    county  YEAR         EVENT_TYPE         FIPS  \\\n",
       "0    543620  SOUTH CAROLINA  Richland  2014  Thunderstorm Wind  45079201411   \n",
       "1    543620  SOUTH CAROLINA  Richland  2014  Thunderstorm Wind  45079201411   \n",
       "2    543620  SOUTH CAROLINA  Richland  2014  Thunderstorm Wind  45079201411   \n",
       "3    543620  SOUTH CAROLINA  Richland  2014  Thunderstorm Wind  45079201411   \n",
       "4    543620  SOUTH CAROLINA  Richland  2014  Thunderstorm Wind  45079201411   \n",
       "\n",
       "   customers_out fips_code month  \n",
       "0             50    201411    11  \n",
       "1             50    201411    11  \n",
       "2             52    201411    11  \n",
       "3             52    201411    11  \n",
       "4             52    201411    11  "
      ]
     },
     "execution_count": 18,
     "metadata": {},
     "output_type": "execute_result"
    }
   ],
   "source": [
    "df_filtered['fips_code'] = df_filtered['fips_code'].astype(str)\n",
    "df_filtered['month'] = df_filtered['fips_code'].str[-2:]\n",
    "df_filtered.head()"
   ]
  },
  {
   "cell_type": "markdown",
   "metadata": {},
   "source": [
    "### Step 2: Create the labels set (`y`)  from the “customers_out” column, and then create the features (`X`) DataFrame from the remaining columns.\n",
    "\n",
    "### we need to convert string/char data types to a coded numerical value in order to translate the data into a usable format for logistical regression. \n",
    "## we will take all pertinent data such in str format such as \"STATE\" and \"county\" then concatenate them so they are unique.  -- NVM We can use FIPS !! \n",
    "# ## once they are merged, we can assign it a numerical value in alphabetical order to render in the model as a \"Coded\" location based value. --AGAIN  -- NVM We can use FIPS !! \n",
    "## EVENT_ID is garbage probably, DELETE \n",
    "### EVENT_TYPE Should be classified by intensity of the storm type in ASC order. yay :) "
   ]
  },
  {
   "cell_type": "code",
   "execution_count": 19,
   "metadata": {},
   "outputs": [
    {
     "data": {
      "text/plain": [
       "Winter Weather             205698\n",
       "Thunderstorm Wind          133259\n",
       "Winter Storm               106094\n",
       "Flood                       88426\n",
       "Strong Wind                 76272\n",
       "Heavy Snow                  60019\n",
       "Heavy Rain                  52016\n",
       "Flash Flood                 50925\n",
       "Dense Fog                   41227\n",
       "High Wind                   38363\n",
       "Drought                     33961\n",
       "Hail                        26071\n",
       "Lake-Effect Snow            24936\n",
       "Tornado                     17513\n",
       "Cold/Wind Chill              9538\n",
       "Frost/Freeze                 8476\n",
       "Funnel Cloud                 8263\n",
       "Lightning                    7851\n",
       "Coastal Flood                7829\n",
       "Debris Flow                  3393\n",
       "Seiche                       2997\n",
       "Ice Storm                    2806\n",
       "Wildfire                     1518\n",
       "Extreme Cold/Wind Chill       279\n",
       "Avalanche                      50\n",
       "Blizzard                        8\n",
       "Sleet                           2\n",
       "Name: EVENT_TYPE, dtype: int64"
      ]
     },
     "execution_count": 19,
     "metadata": {},
     "output_type": "execute_result"
    }
   ],
   "source": [
    "event_type_counts = df['EVENT_TYPE'].value_counts()\n",
    "event_type_counts"
   ]
  },
  {
   "cell_type": "code",
   "execution_count": 20,
   "metadata": {},
   "outputs": [
    {
     "data": {
      "text/html": [
       "<div>\n",
       "<style scoped>\n",
       "    .dataframe tbody tr th:only-of-type {\n",
       "        vertical-align: middle;\n",
       "    }\n",
       "\n",
       "    .dataframe tbody tr th {\n",
       "        vertical-align: top;\n",
       "    }\n",
       "\n",
       "    .dataframe thead th {\n",
       "        text-align: right;\n",
       "    }\n",
       "</style>\n",
       "<table border=\"1\" class=\"dataframe\">\n",
       "  <thead>\n",
       "    <tr style=\"text-align: right;\">\n",
       "      <th></th>\n",
       "      <th>EVENT_ID</th>\n",
       "      <th>STATE</th>\n",
       "      <th>county</th>\n",
       "      <th>YEAR</th>\n",
       "      <th>EVENT_TYPE</th>\n",
       "      <th>FIPS</th>\n",
       "      <th>customers_out</th>\n",
       "      <th>fips_code</th>\n",
       "      <th>month</th>\n",
       "      <th>storm_intensity</th>\n",
       "    </tr>\n",
       "  </thead>\n",
       "  <tbody>\n",
       "    <tr>\n",
       "      <th>0</th>\n",
       "      <td>543620</td>\n",
       "      <td>SOUTH CAROLINA</td>\n",
       "      <td>Richland</td>\n",
       "      <td>2014</td>\n",
       "      <td>Thunderstorm Wind</td>\n",
       "      <td>45079201411</td>\n",
       "      <td>50</td>\n",
       "      <td>201411</td>\n",
       "      <td>11</td>\n",
       "      <td>5</td>\n",
       "    </tr>\n",
       "    <tr>\n",
       "      <th>1</th>\n",
       "      <td>543620</td>\n",
       "      <td>SOUTH CAROLINA</td>\n",
       "      <td>Richland</td>\n",
       "      <td>2014</td>\n",
       "      <td>Thunderstorm Wind</td>\n",
       "      <td>45079201411</td>\n",
       "      <td>50</td>\n",
       "      <td>201411</td>\n",
       "      <td>11</td>\n",
       "      <td>5</td>\n",
       "    </tr>\n",
       "    <tr>\n",
       "      <th>2</th>\n",
       "      <td>543620</td>\n",
       "      <td>SOUTH CAROLINA</td>\n",
       "      <td>Richland</td>\n",
       "      <td>2014</td>\n",
       "      <td>Thunderstorm Wind</td>\n",
       "      <td>45079201411</td>\n",
       "      <td>52</td>\n",
       "      <td>201411</td>\n",
       "      <td>11</td>\n",
       "      <td>5</td>\n",
       "    </tr>\n",
       "    <tr>\n",
       "      <th>3</th>\n",
       "      <td>543620</td>\n",
       "      <td>SOUTH CAROLINA</td>\n",
       "      <td>Richland</td>\n",
       "      <td>2014</td>\n",
       "      <td>Thunderstorm Wind</td>\n",
       "      <td>45079201411</td>\n",
       "      <td>52</td>\n",
       "      <td>201411</td>\n",
       "      <td>11</td>\n",
       "      <td>5</td>\n",
       "    </tr>\n",
       "    <tr>\n",
       "      <th>4</th>\n",
       "      <td>543620</td>\n",
       "      <td>SOUTH CAROLINA</td>\n",
       "      <td>Richland</td>\n",
       "      <td>2014</td>\n",
       "      <td>Thunderstorm Wind</td>\n",
       "      <td>45079201411</td>\n",
       "      <td>52</td>\n",
       "      <td>201411</td>\n",
       "      <td>11</td>\n",
       "      <td>5</td>\n",
       "    </tr>\n",
       "  </tbody>\n",
       "</table>\n",
       "</div>"
      ],
      "text/plain": [
       "   EVENT_ID           STATE    county  YEAR         EVENT_TYPE         FIPS  \\\n",
       "0    543620  SOUTH CAROLINA  Richland  2014  Thunderstorm Wind  45079201411   \n",
       "1    543620  SOUTH CAROLINA  Richland  2014  Thunderstorm Wind  45079201411   \n",
       "2    543620  SOUTH CAROLINA  Richland  2014  Thunderstorm Wind  45079201411   \n",
       "3    543620  SOUTH CAROLINA  Richland  2014  Thunderstorm Wind  45079201411   \n",
       "4    543620  SOUTH CAROLINA  Richland  2014  Thunderstorm Wind  45079201411   \n",
       "\n",
       "   customers_out fips_code month  storm_intensity  \n",
       "0             50    201411    11                5  \n",
       "1             50    201411    11                5  \n",
       "2             52    201411    11                5  \n",
       "3             52    201411    11                5  \n",
       "4             52    201411    11                5  "
      ]
     },
     "execution_count": 20,
     "metadata": {},
     "output_type": "execute_result"
    }
   ],
   "source": [
    "# Define a dictionary to map weather events to scores\n",
    "event_scores = {\n",
    "    \"Winter Weather\": 2,  # Moderate impact\n",
    "    \"Thunderstorm Wind\": 5,  # Can cause damage\n",
    "    \"Winter Storm\": 7,  # Significant disruptions\n",
    "    \"Flood\": 8,  # Major infrastructure damage\n",
    "    \"Strong Wind\": 4,  # Potential for damage\n",
    "    \"Heavy Snow\": 6,  # Disruptions to travel and infrastructure\n",
    "    \"Heavy Rain\": 5,  # Can cause flooding and disruptions\n",
    "    \"Flash Flood\": 8,  # Life-threatening and destructive\n",
    "    \"Dense Fog\": 3,  # Can cause travel delays and accidents\n",
    "    \"High Wind\": 4,  # Potential for damage\n",
    "    \"Drought\": 7,  # Long-term impact on agriculture and water resources\n",
    "    \"Hail\": 5,  # Can damage property and crops\n",
    "    \"Lake-Effect Snow\": 6,  # Can cause heavy snowfall in localized areas\n",
    "    \"Tornado\": 9,  # Devastating impact on property and lives\n",
    "    \"Cold/Wind Chill\": 3,  # Discomfort and health risks for vulnerable populations\n",
    "    \"Frost/Freeze\": 2,  # Can damage crops and vegetation\n",
    "    \"Funnel Cloud\": 1,  # Not always associated with a tornado\n",
    "    \"Lightning\": 3,  # Can cause fires and injuries\n",
    "    \"Coastal Flood\": 8,  # Damage to coastal infrastructure and property\n",
    "    \"Debris Flow\": 8,  # Rapid movement of debris can be destructive\n",
    "    \"Seiche\": 2,  # Water level fluctuations, typically less impactful\n",
    "    \"Ice Storm\": 7,  # Power outages and damage to infrastructure\n",
    "    \"Wildfire\": 9,  # Widespread destruction of property and ecological damage\n",
    "    \"Extreme Cold/Wind Chill\": 8,  # Life-threatening conditions\n",
    "    \"Avalanche\": 9,  # Destructive and can cause fatalities\n",
    "    \"Blizzard\": 8,  # Severe travel disruptions and potential infrastructure damage\n",
    "    \"Sleet\": 3  # Mix of rain and snow, can cause slippery conditions\n",
    "}\n",
    "\n",
    "# Assign scores to the \"EVENT_TYPE\" column and create a new \"domain\" column\n",
    "df_filtered[\"storm_intensity\"] = df_filtered[\"EVENT_TYPE\"].apply(lambda event: event_scores.get(event, 1))  # Assign 1 for missing values\n",
    "\n",
    "# Print the modified DataFrame (optional)\n",
    "df_filtered.head()"
   ]
  },
  {
   "cell_type": "code",
   "execution_count": 21,
   "metadata": {},
   "outputs": [],
   "source": [
    "# Separate the data into labels and features\n",
    "\n",
    "# Separate the y variable, the labels\n",
    "y=df_filtered['customers_out']\n",
    "\n",
    "# Separate the X variables from the features\n",
    "x = df_filtered.drop(columns=['customers_out', 'EVENT_ID', 'fips_code', 'STATE', 'county', 'EVENT_TYPE'])"
   ]
  },
  {
   "cell_type": "code",
   "execution_count": 22,
   "metadata": {},
   "outputs": [
    {
     "data": {
      "text/plain": [
       "0    50\n",
       "1    50\n",
       "2    52\n",
       "3    52\n",
       "4    52\n",
       "Name: customers_out, dtype: int64"
      ]
     },
     "execution_count": 22,
     "metadata": {},
     "output_type": "execute_result"
    }
   ],
   "source": [
    "y.head()"
   ]
  },
  {
   "cell_type": "code",
   "execution_count": 23,
   "metadata": {},
   "outputs": [
    {
     "data": {
      "text/plain": [
       "11      21800\n",
       "12      12261\n",
       "13      10230\n",
       "14       8569\n",
       "15       8069\n",
       "        ...  \n",
       "3631        1\n",
       "2920        1\n",
       "2921        1\n",
       "1727        1\n",
       "4196        1\n",
       "Name: customers_out, Length: 7934, dtype: int64"
      ]
     },
     "execution_count": 23,
     "metadata": {},
     "output_type": "execute_result"
    }
   ],
   "source": [
    "y.value_counts()"
   ]
  },
  {
   "cell_type": "code",
   "execution_count": 24,
   "metadata": {},
   "outputs": [
    {
     "data": {
      "text/html": [
       "<div>\n",
       "<style scoped>\n",
       "    .dataframe tbody tr th:only-of-type {\n",
       "        vertical-align: middle;\n",
       "    }\n",
       "\n",
       "    .dataframe tbody tr th {\n",
       "        vertical-align: top;\n",
       "    }\n",
       "\n",
       "    .dataframe thead th {\n",
       "        text-align: right;\n",
       "    }\n",
       "</style>\n",
       "<table border=\"1\" class=\"dataframe\">\n",
       "  <thead>\n",
       "    <tr style=\"text-align: right;\">\n",
       "      <th></th>\n",
       "      <th>YEAR</th>\n",
       "      <th>FIPS</th>\n",
       "      <th>month</th>\n",
       "      <th>storm_intensity</th>\n",
       "    </tr>\n",
       "  </thead>\n",
       "  <tbody>\n",
       "    <tr>\n",
       "      <th>0</th>\n",
       "      <td>2014</td>\n",
       "      <td>45079201411</td>\n",
       "      <td>11</td>\n",
       "      <td>5</td>\n",
       "    </tr>\n",
       "    <tr>\n",
       "      <th>1</th>\n",
       "      <td>2014</td>\n",
       "      <td>45079201411</td>\n",
       "      <td>11</td>\n",
       "      <td>5</td>\n",
       "    </tr>\n",
       "    <tr>\n",
       "      <th>2</th>\n",
       "      <td>2014</td>\n",
       "      <td>45079201411</td>\n",
       "      <td>11</td>\n",
       "      <td>5</td>\n",
       "    </tr>\n",
       "    <tr>\n",
       "      <th>3</th>\n",
       "      <td>2014</td>\n",
       "      <td>45079201411</td>\n",
       "      <td>11</td>\n",
       "      <td>5</td>\n",
       "    </tr>\n",
       "    <tr>\n",
       "      <th>4</th>\n",
       "      <td>2014</td>\n",
       "      <td>45079201411</td>\n",
       "      <td>11</td>\n",
       "      <td>5</td>\n",
       "    </tr>\n",
       "  </tbody>\n",
       "</table>\n",
       "</div>"
      ],
      "text/plain": [
       "   YEAR         FIPS month  storm_intensity\n",
       "0  2014  45079201411    11                5\n",
       "1  2014  45079201411    11                5\n",
       "2  2014  45079201411    11                5\n",
       "3  2014  45079201411    11                5\n",
       "4  2014  45079201411    11                5"
      ]
     },
     "execution_count": 24,
     "metadata": {},
     "output_type": "execute_result"
    }
   ],
   "source": [
    "x.head()"
   ]
  },
  {
   "cell_type": "markdown",
   "metadata": {},
   "source": [
    "### Step 3: Split the data into training and testing datasets by using `train_test_split`."
   ]
  },
  {
   "cell_type": "code",
   "execution_count": 25,
   "metadata": {},
   "outputs": [
    {
     "data": {
      "text/plain": [
       "(338284, 4)"
      ]
     },
     "execution_count": 25,
     "metadata": {},
     "output_type": "execute_result"
    }
   ],
   "source": [
    "# Import the train_test_learn module\n",
    "from sklearn.model_selection import train_test_split\n",
    "### We had to remove the stratify = y argument due to multiple values in our testing data of having only one occurrence. The testing/training of this method\n",
    "### requires multiple occurrences of the customer out value to train against, and one example will not allow the tool to analyze and understand the difference and \n",
    "## potential values to expect given the other values/parameters of our \"X\" data \n",
    "# Split the data using train_test_split\n",
    "# Assign a random_state of 1 to the function\n",
    "X_train, X_test, y_train, y_test = train_test_split(x, y, random_state=1)\n",
    "X_train.shape"
   ]
  },
  {
   "cell_type": "code",
   "execution_count": 26,
   "metadata": {},
   "outputs": [
    {
     "data": {
      "text/plain": [
       "(338284,)"
      ]
     },
     "execution_count": 26,
     "metadata": {},
     "output_type": "execute_result"
    }
   ],
   "source": [
    "y_train.shape"
   ]
  },
  {
   "cell_type": "code",
   "execution_count": 27,
   "metadata": {},
   "outputs": [
    {
     "data": {
      "text/plain": [
       "(112762,)"
      ]
     },
     "execution_count": 27,
     "metadata": {},
     "output_type": "execute_result"
    }
   ],
   "source": [
    "y_test.shape"
   ]
  },
  {
   "cell_type": "markdown",
   "metadata": {},
   "source": [
    "## Create a Logistic Regression Model with the Original Data\n",
    "#####  Step 1: Fit a logistic regression model by using the training data (`X_train` and `y_train`)."
   ]
  },
  {
   "cell_type": "code",
   "execution_count": 28,
   "metadata": {},
   "outputs": [],
   "source": [
    "# Import the LogisticRegression module from SKLearn\n",
    "from sklearn.linear_model import LogisticRegression\n",
    "\n",
    "# Instantiate the Logistic Regression model\n",
    "# Assign a random_state parameter of 1 to the model\n",
    "Logistic_regr = LogisticRegression(solver='lbfgs',max_iter=200,random_state=1)\n",
    "Logistic_regr\n",
    "\n",
    "# Fit the model using training data\n",
    "Logistic_regr.fit(X_train,y_train)"
   ]
  },
  {
   "cell_type": "markdown",
   "metadata": {},
   "source": [
    "### Step 2: Save the predictions on the testing data labels by using the testing feature data (`X_test`) and the fitted model."
   ]
  },
  {
   "cell_type": "code",
   "execution_count": null,
   "metadata": {},
   "outputs": [
    {
     "ename": "AttributeError",
     "evalue": "'LogisticRegression' object has no attribute 'coef_'",
     "output_type": "error",
     "traceback": [
      "\u001b[1;31m---------------------------------------------------------------------------\u001b[0m",
      "\u001b[1;31mAttributeError\u001b[0m                            Traceback (most recent call last)",
      "Cell \u001b[1;32mIn[36], line 2\u001b[0m\n\u001b[0;32m      1\u001b[0m \u001b[38;5;66;03m# Make a prediction using the testing data\u001b[39;00m\n\u001b[1;32m----> 2\u001b[0m prediction \u001b[38;5;241m=\u001b[39m \u001b[43mLogistic_regr\u001b[49m\u001b[38;5;241;43m.\u001b[39;49m\u001b[43mpredict\u001b[49m\u001b[43m(\u001b[49m\u001b[43mX_test\u001b[49m\u001b[43m)\u001b[49m\n\u001b[0;32m      3\u001b[0m prediction_df \u001b[38;5;241m=\u001b[39m pd\u001b[38;5;241m.\u001b[39mDataFrame({\u001b[38;5;124m\"\u001b[39m\u001b[38;5;124mPrediction\u001b[39m\u001b[38;5;124m\"\u001b[39m: prediction, \u001b[38;5;124m\"\u001b[39m\u001b[38;5;124mActual\u001b[39m\u001b[38;5;124m\"\u001b[39m: y_test})\u001b[38;5;241m.\u001b[39mreset_index(drop\u001b[38;5;241m=\u001b[39m\u001b[38;5;28;01mTrue\u001b[39;00m)\n\u001b[0;32m      4\u001b[0m prediction_df\u001b[38;5;241m.\u001b[39mhead()\n",
      "File \u001b[1;32m~\\AppData\\Roaming\\Python\\Python310\\site-packages\\sklearn\\linear_model\\_base.py:382\u001b[0m, in \u001b[0;36mLinearClassifierMixin.predict\u001b[1;34m(self, X)\u001b[0m\n\u001b[0;32m    368\u001b[0m \u001b[38;5;250m\u001b[39m\u001b[38;5;124;03m\"\"\"\u001b[39;00m\n\u001b[0;32m    369\u001b[0m \u001b[38;5;124;03mPredict class labels for samples in X.\u001b[39;00m\n\u001b[0;32m    370\u001b[0m \n\u001b[1;32m   (...)\u001b[0m\n\u001b[0;32m    379\u001b[0m \u001b[38;5;124;03m    Vector containing the class labels for each sample.\u001b[39;00m\n\u001b[0;32m    380\u001b[0m \u001b[38;5;124;03m\"\"\"\u001b[39;00m\n\u001b[0;32m    381\u001b[0m xp, _ \u001b[38;5;241m=\u001b[39m get_namespace(X)\n\u001b[1;32m--> 382\u001b[0m scores \u001b[38;5;241m=\u001b[39m \u001b[38;5;28;43mself\u001b[39;49m\u001b[38;5;241;43m.\u001b[39;49m\u001b[43mdecision_function\u001b[49m\u001b[43m(\u001b[49m\u001b[43mX\u001b[49m\u001b[43m)\u001b[49m\n\u001b[0;32m    383\u001b[0m \u001b[38;5;28;01mif\u001b[39;00m \u001b[38;5;28mlen\u001b[39m(scores\u001b[38;5;241m.\u001b[39mshape) \u001b[38;5;241m==\u001b[39m \u001b[38;5;241m1\u001b[39m:\n\u001b[0;32m    384\u001b[0m     indices \u001b[38;5;241m=\u001b[39m xp\u001b[38;5;241m.\u001b[39mastype(scores \u001b[38;5;241m>\u001b[39m \u001b[38;5;241m0\u001b[39m, indexing_dtype(xp))\n",
      "File \u001b[1;32m~\\AppData\\Roaming\\Python\\Python310\\site-packages\\sklearn\\linear_model\\_base.py:364\u001b[0m, in \u001b[0;36mLinearClassifierMixin.decision_function\u001b[1;34m(self, X)\u001b[0m\n\u001b[0;32m    361\u001b[0m xp, _ \u001b[38;5;241m=\u001b[39m get_namespace(X)\n\u001b[0;32m    363\u001b[0m X \u001b[38;5;241m=\u001b[39m \u001b[38;5;28mself\u001b[39m\u001b[38;5;241m.\u001b[39m_validate_data(X, accept_sparse\u001b[38;5;241m=\u001b[39m\u001b[38;5;124m\"\u001b[39m\u001b[38;5;124mcsr\u001b[39m\u001b[38;5;124m\"\u001b[39m, reset\u001b[38;5;241m=\u001b[39m\u001b[38;5;28;01mFalse\u001b[39;00m)\n\u001b[1;32m--> 364\u001b[0m scores \u001b[38;5;241m=\u001b[39m safe_sparse_dot(X, \u001b[38;5;28;43mself\u001b[39;49m\u001b[38;5;241;43m.\u001b[39;49m\u001b[43mcoef_\u001b[49m\u001b[38;5;241m.\u001b[39mT, dense_output\u001b[38;5;241m=\u001b[39m\u001b[38;5;28;01mTrue\u001b[39;00m) \u001b[38;5;241m+\u001b[39m \u001b[38;5;28mself\u001b[39m\u001b[38;5;241m.\u001b[39mintercept_\n\u001b[0;32m    365\u001b[0m \u001b[38;5;28;01mreturn\u001b[39;00m xp\u001b[38;5;241m.\u001b[39mreshape(scores, (\u001b[38;5;241m-\u001b[39m\u001b[38;5;241m1\u001b[39m,)) \u001b[38;5;28;01mif\u001b[39;00m scores\u001b[38;5;241m.\u001b[39mshape[\u001b[38;5;241m1\u001b[39m] \u001b[38;5;241m==\u001b[39m \u001b[38;5;241m1\u001b[39m \u001b[38;5;28;01melse\u001b[39;00m scores\n",
      "\u001b[1;31mAttributeError\u001b[0m: 'LogisticRegression' object has no attribute 'coef_'"
     ]
    }
   ],
   "source": [
    "# Make a prediction using the testing data\n",
    "prediction = Logistic_regr.predict(X_test)\n",
    "prediction_df = pd.DataFrame({\"Prediction\": prediction, \"Actual\": y_test}).reset_index(drop=True)\n",
    "prediction_df.head()"
   ]
  },
  {
   "cell_type": "markdown",
   "metadata": {},
   "source": [
    "### Step 3: Evaluate the model’s performance by doing the following:\n",
    "\n",
    "* Generate a confusion matrix.\n",
    "\n",
    "* Print the classification report."
   ]
  },
  {
   "cell_type": "code",
   "execution_count": null,
   "metadata": {},
   "outputs": [],
   "source": [
    "from sklearn.metrics import confusion_matrix, accuracy_score, classification_report\n",
    "import pandas as pd"
   ]
  },
  {
   "cell_type": "code",
   "execution_count": null,
   "metadata": {},
   "outputs": [
    {
     "ename": "NameError",
     "evalue": "name 'prediction' is not defined",
     "output_type": "error",
     "traceback": [
      "\u001b[1;31m---------------------------------------------------------------------------\u001b[0m",
      "\u001b[1;31mNameError\u001b[0m                                 Traceback (most recent call last)",
      "Cell \u001b[1;32mIn[38], line 2\u001b[0m\n\u001b[0;32m      1\u001b[0m \u001b[38;5;66;03m# Generate a confusion matrix for the model\u001b[39;00m\n\u001b[1;32m----> 2\u001b[0m conf_mat \u001b[38;5;241m=\u001b[39m confusion_matrix(y_test, \u001b[43mprediction\u001b[49m)\n\u001b[0;32m      3\u001b[0m conf_mat_df \u001b[38;5;241m=\u001b[39m pd\u001b[38;5;241m.\u001b[39mDataFrame(conf_mat, index\u001b[38;5;241m=\u001b[39m [\u001b[38;5;124m\"\u001b[39m\u001b[38;5;124mBase 0 \u001b[39m\u001b[38;5;124m\"\u001b[39m, \u001b[38;5;124m\"\u001b[39m\u001b[38;5;124mBase 1 \u001b[39m\u001b[38;5;124m\"\u001b[39m], columns\u001b[38;5;241m=\u001b[39m[\u001b[38;5;124m\"\u001b[39m\u001b[38;5;124mPredicted 0\u001b[39m\u001b[38;5;124m\"\u001b[39m, \u001b[38;5;124m\"\u001b[39m\u001b[38;5;124mPredicted 1\u001b[39m\u001b[38;5;124m\"\u001b[39m])\n\u001b[0;32m      4\u001b[0m accuracy_score \u001b[38;5;241m=\u001b[39m accuracy_score(y_test, prediction)\n",
      "\u001b[1;31mNameError\u001b[0m: name 'prediction' is not defined"
     ]
    }
   ],
   "source": [
    "# Generate a confusion matrix for the model\n",
    "conf_mat = confusion_matrix(y_test, prediction)\n",
    "conf_mat_df = pd.DataFrame(conf_mat, index= [\"Base 0 \", \"Base 1 \"], columns=[\"Predicted 0\", \"Predicted 1\"])\n",
    "accuracy_score = accuracy_score(y_test, prediction)"
   ]
  },
  {
   "cell_type": "code",
   "execution_count": null,
   "metadata": {},
   "outputs": [
    {
     "ename": "AttributeError",
     "evalue": "'LogisticRegression' object has no attribute 'coef_'",
     "output_type": "error",
     "traceback": [
      "\u001b[1;31m---------------------------------------------------------------------------\u001b[0m",
      "\u001b[1;31mAttributeError\u001b[0m                            Traceback (most recent call last)",
      "Cell \u001b[1;32mIn[39], line 5\u001b[0m\n\u001b[0;32m      3\u001b[0m \u001b[38;5;66;03m# Assuming model is your trained model and X_test is your test dataset\u001b[39;00m\n\u001b[0;32m      4\u001b[0m y_true \u001b[38;5;241m=\u001b[39m y_test  \u001b[38;5;66;03m# True labels\u001b[39;00m\n\u001b[1;32m----> 5\u001b[0m y_pred \u001b[38;5;241m=\u001b[39m \u001b[43mLogistic_regr\u001b[49m\u001b[38;5;241;43m.\u001b[39;49m\u001b[43mpredict\u001b[49m\u001b[43m(\u001b[49m\u001b[43mX_test\u001b[49m\u001b[43m)\u001b[49m  \u001b[38;5;66;03m# Predicted labels\u001b[39;00m\n\u001b[0;32m      7\u001b[0m \u001b[38;5;66;03m# Ensure y_pred is an array\u001b[39;00m\n\u001b[0;32m      8\u001b[0m y_pred \u001b[38;5;241m=\u001b[39m y_pred\u001b[38;5;241m.\u001b[39mtolist() \u001b[38;5;28;01mif\u001b[39;00m \u001b[38;5;129;01mnot\u001b[39;00m \u001b[38;5;28misinstance\u001b[39m(y_pred, (\u001b[38;5;28mlist\u001b[39m, np\u001b[38;5;241m.\u001b[39mndarray)) \u001b[38;5;28;01melse\u001b[39;00m y_pred\n",
      "File \u001b[1;32m~\\AppData\\Roaming\\Python\\Python310\\site-packages\\sklearn\\linear_model\\_base.py:382\u001b[0m, in \u001b[0;36mLinearClassifierMixin.predict\u001b[1;34m(self, X)\u001b[0m\n\u001b[0;32m    368\u001b[0m \u001b[38;5;250m\u001b[39m\u001b[38;5;124;03m\"\"\"\u001b[39;00m\n\u001b[0;32m    369\u001b[0m \u001b[38;5;124;03mPredict class labels for samples in X.\u001b[39;00m\n\u001b[0;32m    370\u001b[0m \n\u001b[1;32m   (...)\u001b[0m\n\u001b[0;32m    379\u001b[0m \u001b[38;5;124;03m    Vector containing the class labels for each sample.\u001b[39;00m\n\u001b[0;32m    380\u001b[0m \u001b[38;5;124;03m\"\"\"\u001b[39;00m\n\u001b[0;32m    381\u001b[0m xp, _ \u001b[38;5;241m=\u001b[39m get_namespace(X)\n\u001b[1;32m--> 382\u001b[0m scores \u001b[38;5;241m=\u001b[39m \u001b[38;5;28;43mself\u001b[39;49m\u001b[38;5;241;43m.\u001b[39;49m\u001b[43mdecision_function\u001b[49m\u001b[43m(\u001b[49m\u001b[43mX\u001b[49m\u001b[43m)\u001b[49m\n\u001b[0;32m    383\u001b[0m \u001b[38;5;28;01mif\u001b[39;00m \u001b[38;5;28mlen\u001b[39m(scores\u001b[38;5;241m.\u001b[39mshape) \u001b[38;5;241m==\u001b[39m \u001b[38;5;241m1\u001b[39m:\n\u001b[0;32m    384\u001b[0m     indices \u001b[38;5;241m=\u001b[39m xp\u001b[38;5;241m.\u001b[39mastype(scores \u001b[38;5;241m>\u001b[39m \u001b[38;5;241m0\u001b[39m, indexing_dtype(xp))\n",
      "File \u001b[1;32m~\\AppData\\Roaming\\Python\\Python310\\site-packages\\sklearn\\linear_model\\_base.py:364\u001b[0m, in \u001b[0;36mLinearClassifierMixin.decision_function\u001b[1;34m(self, X)\u001b[0m\n\u001b[0;32m    361\u001b[0m xp, _ \u001b[38;5;241m=\u001b[39m get_namespace(X)\n\u001b[0;32m    363\u001b[0m X \u001b[38;5;241m=\u001b[39m \u001b[38;5;28mself\u001b[39m\u001b[38;5;241m.\u001b[39m_validate_data(X, accept_sparse\u001b[38;5;241m=\u001b[39m\u001b[38;5;124m\"\u001b[39m\u001b[38;5;124mcsr\u001b[39m\u001b[38;5;124m\"\u001b[39m, reset\u001b[38;5;241m=\u001b[39m\u001b[38;5;28;01mFalse\u001b[39;00m)\n\u001b[1;32m--> 364\u001b[0m scores \u001b[38;5;241m=\u001b[39m safe_sparse_dot(X, \u001b[38;5;28;43mself\u001b[39;49m\u001b[38;5;241;43m.\u001b[39;49m\u001b[43mcoef_\u001b[49m\u001b[38;5;241m.\u001b[39mT, dense_output\u001b[38;5;241m=\u001b[39m\u001b[38;5;28;01mTrue\u001b[39;00m) \u001b[38;5;241m+\u001b[39m \u001b[38;5;28mself\u001b[39m\u001b[38;5;241m.\u001b[39mintercept_\n\u001b[0;32m    365\u001b[0m \u001b[38;5;28;01mreturn\u001b[39;00m xp\u001b[38;5;241m.\u001b[39mreshape(scores, (\u001b[38;5;241m-\u001b[39m\u001b[38;5;241m1\u001b[39m,)) \u001b[38;5;28;01mif\u001b[39;00m scores\u001b[38;5;241m.\u001b[39mshape[\u001b[38;5;241m1\u001b[39m] \u001b[38;5;241m==\u001b[39m \u001b[38;5;241m1\u001b[39m \u001b[38;5;28;01melse\u001b[39;00m scores\n",
      "\u001b[1;31mAttributeError\u001b[0m: 'LogisticRegression' object has no attribute 'coef_'"
     ]
    }
   ],
   "source": [
    "from sklearn.metrics import classification_report\n",
    "\n",
    "# Assuming model is your trained model and X_test is your test dataset\n",
    "y_true = y_test  # True labels\n",
    "y_pred = Logistic_regr.predict(X_test)  # Predicted labels\n",
    "\n",
    "# Ensure y_pred is an array\n",
    "y_pred = y_pred.tolist() if not isinstance(y_pred, (list, np.ndarray)) else y_pred\n",
    "\n",
    "# Print the classification report for the model\n",
    "# Displaying results\n",
    "print(\"Confusion Matrix Chart\")\n",
    "display(conf_mat_df)\n",
    "print(f\"Accuracy Score : {accuracy_score}\")\n",
    "print(\"Classifications\")\n",
    "report = classification_report(y_true, y_pred)\n",
    "print(report)"
   ]
  },
  {
   "cell_type": "markdown",
   "metadata": {},
   "source": [
    "**Question:** How well does the logistic regression model predict both the `0` (healthy loan) and `1` (high-risk loan) labels?\n",
    "\n",
    "**Answer:** \n",
    "\n",
    "The model predicts healthy loans almost perfectly. It performs well for high-risk loans, but not as accurately. There are some false positives and false negatives in the high risk loan model, showing a drop in precision and recall, compared to healthy loans. Overall, the model is highly effective, but it could improve in reducing errors for high-risk loans."
   ]
  }
 ],
 "metadata": {
  "kernelspec": {
   "display_name": "dev",
   "language": "python",
   "name": "python3"
  },
  "language_info": {
   "codemirror_mode": {
    "name": "ipython",
    "version": 3
   },
   "file_extension": ".py",
   "mimetype": "text/x-python",
   "name": "python",
   "nbconvert_exporter": "python",
   "pygments_lexer": "ipython3",
   "version": "3.10.2"
  }
 },
 "nbformat": 4,
 "nbformat_minor": 2
}
